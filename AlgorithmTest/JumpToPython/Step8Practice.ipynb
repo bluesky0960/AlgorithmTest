{
 "cells": [
  {
   "cell_type": "code",
   "execution_count": 1,
   "metadata": {},
   "outputs": [
    {
     "name": "stdout",
     "output_type": "stream",
     "text": [
      "a#b#c#d\n"
     ]
    }
   ],
   "source": [
    "print(\"a:b:c:d\".replace(\":\", \"#\"))"
   ]
  },
  {
   "cell_type": "code",
   "execution_count": 2,
   "metadata": {},
   "outputs": [
    {
     "name": "stdout",
     "output_type": "stream",
     "text": [
      "70\n"
     ]
    }
   ],
   "source": [
    "a = {'A':90, 'B':80}\n",
    "\n",
    "try:\n",
    "    print(a['C'])\n",
    "except Exception:\n",
    "    print(70)"
   ]
  },
  {
   "cell_type": "code",
   "execution_count": 3,
   "metadata": {},
   "outputs": [
    {
     "name": "stdout",
     "output_type": "stream",
     "text": [
      "604\n"
     ]
    }
   ],
   "source": [
    "A = [20, 55, 67, 82, 45, 33, 90, 87, 100, 25]\n",
    "\n",
    "print(sum(A))"
   ]
  },
  {
   "cell_type": "code",
   "execution_count": 8,
   "metadata": {},
   "outputs": [],
   "source": [
    "def fibo(n):\n",
    "    if n==1 or n==2:\n",
    "        return 1\n",
    "    else:\n",
    "        return fibo(n-1)+fibo(n-2)"
   ]
  },
  {
   "cell_type": "code",
   "execution_count": 20,
   "metadata": {},
   "outputs": [
    {
     "name": "stdout",
     "output_type": "stream",
     "text": [
      "0\n",
      "1\n",
      "1\n",
      "2\n",
      "3\n",
      "5\n",
      "8\n",
      "13\n"
     ]
    }
   ],
   "source": [
    "def fibo(n):\n",
    "    if n==1 or n==2:\n",
    "        return 1\n",
    "    else:\n",
    "        return fibo(n-1) + fibo(n-2)\n",
    "\n",
    "n = int(input())\n",
    "print(0)\n",
    "for i in range(1, n+1):\n",
    "    if fibo(i) > n:\n",
    "        break\n",
    "    print(fibo(i))"
   ]
  },
  {
   "cell_type": "code",
   "execution_count": 21,
   "metadata": {},
   "outputs": [
    {
     "name": "stdout",
     "output_type": "stream",
     "text": [
      "168\n"
     ]
    }
   ],
   "source": [
    "n = map(int, input().split(','))\n",
    "\n",
    "print(sum(n))"
   ]
  },
  {
   "cell_type": "code",
   "execution_count": 23,
   "metadata": {},
   "outputs": [
    {
     "name": "stdout",
     "output_type": "stream",
     "text": [
      "5 10 15 20 25 30 35 40 45 \n"
     ]
    }
   ],
   "source": [
    "n = int(input())\n",
    "\n",
    "for i in range(1, 10):\n",
    "    print(n * i, end=' ')\n",
    "print()"
   ]
  },
  {
   "cell_type": "code",
   "execution_count": 26,
   "metadata": {},
   "outputs": [],
   "source": [
    "l = \"\"\"AAA\n",
    "BBB\n",
    "CCC\n",
    "DDD\n",
    "EEE\"\"\"\n",
    "f = open('abc.txt', 'w')\n",
    "f.write(l)\n",
    "f.close()"
   ]
  },
  {
   "cell_type": "code",
   "execution_count": 34,
   "metadata": {},
   "outputs": [
    {
     "name": "stdout",
     "output_type": "stream",
     "text": [
      "['EEE', 'DDD', 'CCC', 'BBB', 'AAA']\n"
     ]
    }
   ],
   "source": [
    "f = open('abc.txt', 'r')\n",
    "l = f.readlines()\n",
    "f.close()\n",
    "\n",
    "for idx, var in enumerate(l):\n",
    "    l[idx] = var.replace('\\n','')\n",
    "l.sort(reverse=True)\n",
    "print(l)"
   ]
  },
  {
   "cell_type": "code",
   "execution_count": 35,
   "metadata": {},
   "outputs": [],
   "source": [
    "num = \"\"\"70\n",
    "60\n",
    "55\n",
    "75\n",
    "95\n",
    "90\n",
    "80\n",
    "80\n",
    "85\n",
    "100\"\"\"\n",
    "with open('sample.txt', 'w') as f:\n",
    "    f.write(num)"
   ]
  },
  {
   "cell_type": "code",
   "execution_count": 43,
   "metadata": {},
   "outputs": [
    {
     "name": "stdout",
     "output_type": "stream",
     "text": [
      "790\n"
     ]
    }
   ],
   "source": [
    "sum = 0\n",
    "with open('sample.txt', 'r') as f:\n",
    "    while True:\n",
    "        line = f.readline()\n",
    "        if not line: break\n",
    "        sum += int(line)\n",
    "print(sum)"
   ]
  },
  {
   "cell_type": "code",
   "execution_count": 79,
   "metadata": {},
   "outputs": [],
   "source": [
    "class Calculator:\n",
    "    def __init__(self, list_num):\n",
    "        self.a = list_num\n",
    "    \n",
    "    def sum(self):\n",
    "        sum_num = 0\n",
    "        for i in self.a:\n",
    "            sum_num += i\n",
    "        return sum_num\n",
    "    \n",
    "    def avg(self):\n",
    "        sum_num = self.sum()\n",
    "        return sum_num/len(self.a)"
   ]
  },
  {
   "cell_type": "code",
   "execution_count": 80,
   "metadata": {},
   "outputs": [
    {
     "name": "stdout",
     "output_type": "stream",
     "text": [
      "[1, 2, 3, 4, 5]\n",
      "<class 'list'>\n"
     ]
    }
   ],
   "source": [
    "cal1 = Calculator([1,2,3,4,5])\n",
    "print(cal1.a)\n",
    "print(type(cal1.a))"
   ]
  },
  {
   "cell_type": "code",
   "execution_count": 81,
   "metadata": {},
   "outputs": [
    {
     "data": {
      "text/plain": [
       "15"
      ]
     },
     "execution_count": 81,
     "metadata": {},
     "output_type": "execute_result"
    }
   ],
   "source": [
    "cal1.sum()"
   ]
  },
  {
   "cell_type": "code",
   "execution_count": 82,
   "metadata": {},
   "outputs": [
    {
     "data": {
      "text/plain": [
       "3.0"
      ]
     },
     "execution_count": 82,
     "metadata": {},
     "output_type": "execute_result"
    }
   ],
   "source": [
    "cal1.avg()"
   ]
  },
  {
   "cell_type": "code",
   "execution_count": 83,
   "metadata": {},
   "outputs": [
    {
     "data": {
      "text/plain": [
       "40"
      ]
     },
     "execution_count": 83,
     "metadata": {},
     "output_type": "execute_result"
    }
   ],
   "source": [
    "cal2 = Calculator([6,7,8,9,10])\n",
    "cal2.sum()"
   ]
  },
  {
   "cell_type": "code",
   "execution_count": 84,
   "metadata": {},
   "outputs": [
    {
     "data": {
      "text/plain": [
       "8.0"
      ]
     },
     "execution_count": 84,
     "metadata": {},
     "output_type": "execute_result"
    }
   ],
   "source": [
    "cal2.avg()"
   ]
  },
  {
   "cell_type": "code",
   "execution_count": 88,
   "metadata": {},
   "outputs": [
    {
     "name": "stdout",
     "output_type": "stream",
     "text": [
      "454*67-9-3\n"
     ]
    }
   ],
   "source": [
    "def DashInsert(st):\n",
    "    answer = ''\n",
    "    isTwo = True\n",
    "    first = int(st[0])\n",
    "    answer+=st[0]\n",
    "    if first%2!=0:\n",
    "        isTwo = False\n",
    "    for i in st[1:]:\n",
    "        if int(i) % 2 == 0:\n",
    "            if isTwo:\n",
    "                answer+='*'\n",
    "            answer+= i\n",
    "            isTwo = True\n",
    "        else:\n",
    "            if not isTwo:\n",
    "                answer+='-'\n",
    "            answer+=i\n",
    "            isTwo = False\n",
    "    return answer\n",
    "print(DashInsert('4546793'))\n",
    "            "
   ]
  },
  {
   "cell_type": "code",
   "execution_count": 98,
   "metadata": {},
   "outputs": [
    {
     "name": "stdout",
     "output_type": "stream",
     "text": [
      "a3b2c6a1\n"
     ]
    }
   ],
   "source": [
    "def zipM(st):\n",
    "    answer = st[0]\n",
    "    c = st[0]\n",
    "    cnt = 1\n",
    "    for i in st[1:]:\n",
    "        if i != c:\n",
    "            answer += (str(cnt) + i)\n",
    "            c = i\n",
    "            cnt = 1\n",
    "        else:\n",
    "            cnt += 1\n",
    "    answer+=str(cnt)\n",
    "    return answer\n",
    "\n",
    "print(zipM('aaabbcccccca'))"
   ]
  },
  {
   "cell_type": "code",
   "execution_count": 100,
   "metadata": {},
   "outputs": [
    {
     "name": "stdout",
     "output_type": "stream",
     "text": [
      "True\n",
      "False\n",
      "False\n"
     ]
    }
   ],
   "source": [
    "def dup(num):\n",
    "    result = []\n",
    "    for n in num:\n",
    "        if n not in result:\n",
    "            result.append(n)\n",
    "        else:\n",
    "            return False\n",
    "    return len(result)==10\n",
    "\n",
    "print(dup('0123456789'))\n",
    "print(dup('01234'))\n",
    "print(dup('01234567890'))"
   ]
  },
  {
   "cell_type": "code",
   "execution_count": 103,
   "metadata": {},
   "outputs": [
    {
     "name": "stdout",
     "output_type": "stream",
     "text": [
      "AAB CA \n"
     ]
    }
   ],
   "source": [
    "dic = {\n",
    "    '.-':'A',\n",
    "    '-...':'B',\n",
    "    '-.-.':'C',\n",
    "}\n",
    "\n",
    "def mos(st):\n",
    "    answer = ''\n",
    "    for word in st.split('  '):\n",
    "        for c in word.split(' '):\n",
    "            answer += dic[c]\n",
    "        answer+=' '\n",
    "    return answer\n",
    "\n",
    "print(mos('.- .- -...  -.-. .-'))"
   ]
  },
  {
   "cell_type": "code",
   "execution_count": 105,
   "metadata": {},
   "outputs": [
    {
     "name": "stdout",
     "output_type": "stream",
     "text": [
      "2\n",
      "8\n",
      "10\n"
     ]
    }
   ],
   "source": [
    "import re\n",
    "p = re.compile(\"[a-z]+\")\n",
    "m = p.search(\"5 python\")\n",
    "print(m.start())\n",
    "print(m.end())\n",
    "print(m.start() + m.end())"
   ]
  },
  {
   "cell_type": "code",
   "execution_count": 107,
   "metadata": {},
   "outputs": [
    {
     "name": "stdout",
     "output_type": "stream",
     "text": [
      "\n",
      "park 010-9999-####\n",
      "kim 010-9909-####\n",
      "le 010-8789-####\n",
      "\n"
     ]
    }
   ],
   "source": [
    "s = \"\"\"\n",
    "park 010-9999-9988\n",
    "kim 010-9909-7789\n",
    "le 010-8789-7768\n",
    "\"\"\"\n",
    "\n",
    "pat = re.compile(\"(\\d{3}[-]\\d{4})[-]\\d{4}\")\n",
    "result = pat.sub(\"\\g<1>-####\", s)\n",
    "\n",
    "print(result)"
   ]
  },
  {
   "cell_type": "code",
   "execution_count": 108,
   "metadata": {},
   "outputs": [
    {
     "name": "stdout",
     "output_type": "stream",
     "text": [
      "<re.Match object; span=(0, 16), match='pahkey@gmail.com'>\n",
      "<re.Match object; span=(0, 12), match='kim@daum.net'>\n",
      "None\n"
     ]
    }
   ],
   "source": [
    "import re\n",
    "\n",
    "pat = re.compile(\".*[@].*[.](?=com$|net$).*$\")\n",
    "\n",
    "print(pat.match(\"pahkey@gmail.com\"))\n",
    "print(pat.match(\"kim@daum.net\"))\n",
    "print(pat.match(\"lee@myhome.co.kr\"))"
   ]
  },
  {
   "cell_type": "code",
   "execution_count": null,
   "metadata": {},
   "outputs": [],
   "source": []
  }
 ],
 "metadata": {
  "interpreter": {
   "hash": "8fac594bfae6525c0c41b4041d2d72effa188cc8ead05f81b1fab2bb098927fb"
  },
  "kernelspec": {
   "display_name": "Python 3.8.8 64-bit ('base': conda)",
   "language": "python",
   "name": "python3"
  },
  "language_info": {
   "codemirror_mode": {
    "name": "ipython",
    "version": 3
   },
   "file_extension": ".py",
   "mimetype": "text/x-python",
   "name": "python",
   "nbconvert_exporter": "python",
   "pygments_lexer": "ipython3",
   "version": "3.8.8"
  },
  "orig_nbformat": 4
 },
 "nbformat": 4,
 "nbformat_minor": 2
}
